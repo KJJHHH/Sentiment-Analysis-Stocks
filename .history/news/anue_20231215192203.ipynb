{
 "cells": [
  {
   "cell_type": "code",
   "execution_count": 1,
   "metadata": {},
   "outputs": [],
   "source": [
    "from bs4 import BeautifulSoup\n",
    "from selenium import webdriver\n",
    "from selenium.webdriver.common.by import By\n",
    "from selenium.webdriver.common.keys import Keys\n",
    "from selenium.common.exceptions import NoSuchElementException\n",
    "from time import sleep\n",
    "import re\n",
    "import sys\n",
    "import requests\n",
    "import json\n",
    "import datetime\n",
    "import pandas as pd\n",
    "import pickle\n",
    "import warnings\n",
    "from collections import OrderedDict\n",
    "from sqlalchemy import create_engine, VARCHAR\n",
    "import sqlalchemy\n",
    "sys.path.append(\"C:/Users/USER/Desktop/sentiment_pc/chromedriver.exe\")\n",
    "warnings.filterwarnings(\"ignore\")\n",
    "host = 'localhost'\n",
    "port = \"3306\"\n",
    "user = 'root'\n",
    "pwd = 'test123'\n",
    "name = 'stock_daily'\n",
    "conn = create_engine('mysql+pymysql://'+user+':'+pwd+'@'+host+':'+port+'/'+name)"
   ]
  },
  {
   "cell_type": "code",
   "execution_count": 7,
   "metadata": {},
   "outputs": [],
   "source": [
    "options = webdriver.ChromeOptions()\n",
    "options.add_argument('--ignore-certificate-errors')\n",
    "options.add_argument('--incognito')\n",
    "options.add_argument('headless')                        \n",
    "driver = webdriver.Chrome('C:/Users/USER/Desktop/sentiment_pc/chromedriver.exe', chrome_options=options)"
   ]
  },
  {
   "cell_type": "code",
   "execution_count": 2,
   "metadata": {},
   "outputs": [],
   "source": [
    "def store_db(data, table_name, con):\n",
    "    # Always append\n",
    "    try: \n",
    "        data.to_sql(table_name, con=con, if_exists='append')\n",
    "    except:\n",
    "        print(\"!!! Notice: bad data. The bad data below !!!\")\n",
    "        print(data)\n",
    "        data.to_sql(table_name, con=con, if_exists='append')\n",
    "def store_base(data, table_name):\n",
    "    with open(f\"{table_name}.pickle\", \"wb\") as f:\n",
    "        pickle.dump(data, f)\n",
    "def load_db(table_name, con):\n",
    "    pass\n",
    "def load_base(table_name):\n",
    "    with open(f\"{table_name}.pickle\", \"rb\") as f:\n",
    "        data = pickle.load(f)\n",
    "    return data"
   ]
  },
  {
   "cell_type": "code",
   "execution_count": null,
   "metadata": {},
   "outputs": [],
   "source": [
    "article_links = []\n",
    "for element in level_1_list:\n",
    "    article_link = element.get_attribute(\"href\")\n",
    "    article_links.append(article_link) if article_link is not None else NOne\n",
    "article_links"
   ]
  },
  {
   "cell_type": "code",
   "execution_count": null,
   "metadata": {},
   "outputs": [],
   "source": [
    "<div class=\"_2E8y\" data-reactid=\"233\"><p>日經亞洲 (Nikkei Asia) 報導，多名業界人士透露，蘋果 (<a href=\"https://invest.cnyes.com/usstock/detail/AAPL\" target=\"_self\" rel=\"noopener noreferrer\" data-ga-target=\"news\" data-ga-event-name=\"Click_Quote\" data-ga-section=\"News_Article_文中行情\" data-ga-click-item=\"USS:AAPL:STOCK:COMMON\">AAPL-US</a>) 將把目前用於高階智慧手機上的 OLED 顯示面板，擴大應用在 iPad 和 MacBook 上，而且正考慮最終推出摺疊平板電腦，此舉將進一步撼動正從 LCD 轉型、規模 1500 億美元的面板產業。</p>\n",
    "\n",
    "<p>報導披露，蘋果打算讓 2024 年推出的高階 iPad 採用 OLED 面板，此外，搭載 OLED 面板的 MacBook 也正在開發中，最快 2025 年下半年開始生產。</p>\n",
    "\n",
    "<p>這對大力投資 OLED 技術的三星顯示 (Samsung Display)、LG Display(LGD，樂金顯示) 和京東方 (<a href=\"https://www.cnyes.com/astock?url=https://content.etnet.com.hk/content/cnyes/tc/ashares/quote.php?code=000725\" target=\"_self\" rel=\"noopener noreferrer\" data-ga-target=\"news\" data-ga-event-name=\"Click_Quote\" data-ga-section=\"News_Article_文中行情\" data-ga-click-item=\"CNS:000725:STOCK:COMMON\">000725-CN</a>) 來說是好消息，卻可能打擊到日本顯示器 (JDI)、夏普 (Sharp)、友達 (<a href=\"https://www.cnyes.com/twstock/2409\" target=\"_self\" rel=\"noopener noreferrer\" data-ga-target=\"news\" data-ga-event-name=\"Click_Quote\" data-ga-section=\"News_Article_文中行情\" data-ga-click-item=\"TWS:2409:STOCK:COMMON\">2409-TW</a>) 和群創 (<a href=\"https://www.cnyes.com/twstock/3481\" target=\"_self\" rel=\"noopener noreferrer\" data-ga-target=\"news\" data-ga-event-name=\"Click_Quote\" data-ga-section=\"News_Article_文中行情\" data-ga-click-item=\"TWS:3481:STOCK:COMMON\">3481-TW</a>)。</p>\n",
    "\n",
    "<p>知情人士說，蘋果把可摺疊 OLED 面板應用到 iPad 上之後，已經開始評估生產摺疊 iPad 的可能性，但還沒有具體的時間表。</p>\n",
    "\n",
    "</div>"
   ]
  },
  {
   "cell_type": "code",
   "execution_count": 56,
   "metadata": {},
   "outputs": [],
   "source": [
    "for article_link in article_links:\n",
    "    page = requests.get(article_link)\n",
    "    soup = BeautifulSoup(page.content, \"html.parser\")\n",
    "    contents = soup.find(\"div\", {\"class\": \"_2E8y\"})\n",
    "    time = soup.find(\"time\").text\n",
    "    content = \"\"\n",
    "    if contents:\n",
    "        parags = contents.find_all(\"p\")\n",
    "        for i, parag in enumerate(parags):\n",
    "            if not parag.has_attr(\"class\") and parag.string is not None or not parag.findChild('a') :\n",
    "                content += parag.string                \n",
    "    break"
   ]
  },
  {
   "cell_type": "code",
   "execution_count": null,
   "metadata": {},
   "outputs": [],
   "source": [
    "keyword = \"友達\"\n",
    "table_name = f\"news_text_udn_{keyword}\"\n",
    "request = requests.get(f\"https://money.udn.com/search/result/1001/{keyword}/{page}\")\n",
    "soup = BeautifulSoup(request.content, \"html.parser\")\n",
    "soup.find_all(\"div\", {\"class\": \"story__content\"})[0]\n",
    "url_page = [i[\"href\"] for i in soup.find_all(\"a\", {\"data-slotname\": \"list_搜尋結果頁\"})]\n",
    "time = [pd.to_datetime(i.text) for i in set(soup.find_all(\"time\")) - set(soup.find_all(\"time\", {\"class\": \"rank__time\"}))]"
   ]
  }
 ],
 "metadata": {
  "kernelspec": {
   "display_name": "Python 3",
   "language": "python",
   "name": "python3"
  },
  "language_info": {
   "codemirror_mode": {
    "name": "ipython",
    "version": 3
   },
   "file_extension": ".py",
   "mimetype": "text/x-python",
   "name": "python",
   "nbconvert_exporter": "python",
   "pygments_lexer": "ipython3",
   "version": "3.10.4"
  }
 },
 "nbformat": 4,
 "nbformat_minor": 2
}
